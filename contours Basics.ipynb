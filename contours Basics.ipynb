{
 "cells": [
  {
   "cell_type": "code",
   "execution_count": 1,
   "metadata": {
    "collapsed": true
   },
   "outputs": [],
   "source": [
    "import cv2\n",
    "import numpy as np"
   ]
  },
  {
   "cell_type": "code",
   "execution_count": 15,
   "metadata": {},
   "outputs": [],
   "source": [
    "# load an image and convert to gray\n",
    "image =cv2.imread('images/shapes_donut.jpg')\n",
    "cv2.imshow('Input Image',image)\n",
    "cv2.waitKey(0)\n",
    "# gray scale\n",
    "gray =cv2.cvtColor(image,cv2.COLOR_BGR2GRAY)\n",
    "cv2.imshow('gray image',gray)\n",
    "cv2.destroyAllWindows()\n"
   ]
  },
  {
   "cell_type": "code",
   "execution_count": 16,
   "metadata": {
    "collapsed": true
   },
   "outputs": [],
   "source": [
    "# Find canny edges - Reduces lot of noise/ unnecssary contours\n",
    "edged=cv2.Canny(gray,30,200)\n",
    "cv2.imshow('Canny edges',edged)\n",
    "cv2.waitKey(0)\n",
    "cv2.destroyAllWindows()\n"
   ]
  },
  {
   "cell_type": "code",
   "execution_count": 17,
   "metadata": {},
   "outputs": [
    {
     "name": "stdout",
     "output_type": "stream",
     "text": [
      "[array([[[367, 158]],\n",
      "\n",
      "       [[368, 157]],\n",
      "\n",
      "       [[369, 157]],\n",
      "\n",
      "       ..., \n",
      "       [[366, 161]],\n",
      "\n",
      "       [[366, 160]],\n",
      "\n",
      "       [[366, 159]]]), array([[[368, 157]],\n",
      "\n",
      "       [[367, 158]],\n",
      "\n",
      "       [[366, 159]],\n",
      "\n",
      "       ..., \n",
      "       [[371, 157]],\n",
      "\n",
      "       [[370, 157]],\n",
      "\n",
      "       [[369, 157]]]), array([[[101, 119]],\n",
      "\n",
      "       [[102, 118]],\n",
      "\n",
      "       [[103, 118]],\n",
      "\n",
      "       ..., \n",
      "       [[ 98, 120]],\n",
      "\n",
      "       [[ 99, 119]],\n",
      "\n",
      "       [[100, 119]]]), array([[[102, 118]],\n",
      "\n",
      "       [[101, 119]],\n",
      "\n",
      "       [[100, 119]],\n",
      "\n",
      "       ..., \n",
      "       [[105, 118]],\n",
      "\n",
      "       [[104, 118]],\n",
      "\n",
      "       [[103, 118]]]), array([[[519,  64]],\n",
      "\n",
      "       [[520,  63]],\n",
      "\n",
      "       [[521,  63]],\n",
      "\n",
      "       ..., \n",
      "       [[518,  67]],\n",
      "\n",
      "       [[518,  66]],\n",
      "\n",
      "       [[518,  65]]]), array([[[520,  63]],\n",
      "\n",
      "       [[519,  64]],\n",
      "\n",
      "       [[518,  65]],\n",
      "\n",
      "       ..., \n",
      "       [[523,  63]],\n",
      "\n",
      "       [[522,  63]],\n",
      "\n",
      "       [[521,  63]]]), array([[[15, 20]],\n",
      "\n",
      "       [[16, 19]],\n",
      "\n",
      "       [[17, 19]],\n",
      "\n",
      "       ..., \n",
      "       [[14, 23]],\n",
      "\n",
      "       [[15, 22]],\n",
      "\n",
      "       [[15, 21]]]), array([[[16, 19]],\n",
      "\n",
      "       [[15, 20]],\n",
      "\n",
      "       [[15, 21]],\n",
      "\n",
      "       ..., \n",
      "       [[19, 19]],\n",
      "\n",
      "       [[18, 19]],\n",
      "\n",
      "       [[17, 19]]])]\n",
      "number of contours found=8\n"
     ]
    }
   ],
   "source": [
    "# finding and drawing contours\n",
    "# cv2.RETR_EXTERNAL\n",
    "contours,hierarchy=cv2.findContours(edged,cv2.RETR_LIST,cv2.CHAIN_APPROX_NONE)\n",
    "cv2.imshow('canny edges after contouring',edged)\n",
    "# edged gets updated so make copy - edged.copy()\n",
    "cv2.waitKey(0)\n",
    "\n",
    "print(contours)\n",
    "print('number of contours found='+ str(len(contours)))\n",
    "\n",
    "\n",
    "# drawing the contours\n",
    "\n",
    "cv2.drawContours(image,contours,-1,(0,0,255),3)\n",
    "cv2.imshow('Contours',image)\n",
    "cv2.waitKey(0)\n",
    "cv2.destroyAllWindows()\n"
   ]
  },
  {
   "cell_type": "code",
   "execution_count": null,
   "metadata": {},
   "outputs": [],
   "source": [
    "\n",
    "\n",
    "\n"
   ]
  },
  {
   "cell_type": "code",
   "execution_count": null,
   "metadata": {
    "collapsed": true
   },
   "outputs": [],
   "source": []
  }
 ],
 "metadata": {
  "kernelspec": {
   "display_name": "Python 2",
   "language": "python",
   "name": "python2"
  },
  "language_info": {
   "codemirror_mode": {
    "name": "ipython",
    "version": 2
   },
   "file_extension": ".py",
   "mimetype": "text/x-python",
   "name": "python",
   "nbconvert_exporter": "python",
   "pygments_lexer": "ipython2",
   "version": "2.7.13"
  }
 },
 "nbformat": 4,
 "nbformat_minor": 2
}
