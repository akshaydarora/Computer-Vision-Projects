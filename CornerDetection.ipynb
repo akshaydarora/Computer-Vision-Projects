{
 "cells": [
  {
   "cell_type": "code",
   "execution_count": 4,
   "metadata": {},
   "outputs": [],
   "source": [
    "import cv2\n",
    "import numpy as np\n",
    "\n",
    "\n",
    "image =cv2.imread('images/chess.jpg')\n",
    "gray = cv2.cvtColor(image,cv2.COLOR_BGR2GRAY)\n",
    "gray = np.float32(gray)\n",
    "cv2.imshow('Input Image',image)\n",
    "cv2.waitKey(0)\n",
    "cv2.destroyAllWindows()"
   ]
  },
  {
   "cell_type": "code",
   "execution_count": 7,
   "metadata": {},
   "outputs": [],
   "source": [
    "harris_corners =cv2.cornerHarris(gray,3,3,0.05)\n",
    "\n",
    "# we use dilation of the corner points to enlarge them \n",
    "\n",
    "kernel =np.ones ((7,7),np.uint8)\n",
    "harris_corners = cv2.dilate(harris_corners,kernel,iterations=2)\n",
    "\n",
    "image[harris_corners> 0.025 * harris_corners.max()] =[255,127,127]\n",
    "\n",
    "cv2.imshow('Harris Corners',image)\n",
    "cv2.waitKey(0)\n",
    "cv2.destroyAllWindows()\n"
   ]
  },
  {
   "cell_type": "markdown",
   "metadata": {},
   "source": [
    "# Improved Corner Detection Algorithm "
   ]
  },
  {
   "cell_type": "code",
   "execution_count": 9,
   "metadata": {},
   "outputs": [],
   "source": [
    "import cv2 \n",
    "import numpy as np\n",
    "\n",
    "img = cv2.imread('images/chess.jpg')\n",
    "gray = cv2.cvtColor(img,cv2.COLOR_BGR2GRAY)\n",
    "\n",
    "# we specify top 50 corners\n",
    "\n",
    "corners = cv2.goodFeaturesToTrack(gray,100,0.01,150)\n",
    "for corner in corners:\n",
    "    x,y =corner[0]\n",
    "    x=int(x)\n",
    "    y=int(y)\n",
    "    cv2.rectangle(img,(x-10,y-10),(x+10,y+10),(255,0,0),2)\n",
    "    \n",
    "cv2.imshow(\"Corners Found\",img)\n",
    "cv2.waitKey()\n",
    "cv2.destroyAllWindows()"
   ]
  },
  {
   "cell_type": "code",
   "execution_count": null,
   "metadata": {
    "collapsed": true
   },
   "outputs": [],
   "source": []
  }
 ],
 "metadata": {
  "kernelspec": {
   "display_name": "Python 2",
   "language": "python",
   "name": "python2"
  },
  "language_info": {
   "codemirror_mode": {
    "name": "ipython",
    "version": 2
   },
   "file_extension": ".py",
   "mimetype": "text/x-python",
   "name": "python",
   "nbconvert_exporter": "python",
   "pygments_lexer": "ipython2",
   "version": "2.7.13"
  }
 },
 "nbformat": 4,
 "nbformat_minor": 2
}
